{
 "cells": [
  {
   "cell_type": "code",
   "execution_count": 1,
   "metadata": {
    "collapsed": true
   },
   "outputs": [],
   "source": [
    "import imutils\n",
    "import argparse\n",
    "import time\n",
    "import cv2\n",
    "import glob\n",
    "from matplotlib import pyplot as plt\n",
    "import re\n",
    "import math\n",
    "import numpy as np\n",
    "import pandas as pd\n",
    "\n",
    "from skimage import feature\n",
    "from imutils import paths\n",
    "import pickle\n",
    "\n",
    "from sklearn import neighbors, tree, naive_bayes, svm, neural_network"
   ]
  },
  {
   "cell_type": "code",
   "execution_count": 2,
   "metadata": {
    "collapsed": true
   },
   "outputs": [],
   "source": [
    "def label(n):\n",
    "    return {\n",
    "        0: 'c1',\n",
    "        1: 'c2',\n",
    "    }[n]"
   ]
  },
  {
   "cell_type": "code",
   "execution_count": 3,
   "metadata": {
    "collapsed": true
   },
   "outputs": [],
   "source": [
    "sizeWin = 16\n",
    "stepSize = int(sizeWin/2)\n",
    "(winW, winH) = (sizeWin, sizeWin)"
   ]
  },
  {
   "cell_type": "code",
   "execution_count": 4,
   "metadata": {
    "collapsed": true,
    "scrolled": true
   },
   "outputs": [],
   "source": [
    "with open('./c45_export.txt', mode='rb') as file:\n",
    "    fileContent = file.read()\n",
    "c45 = pickle.loads(fileContent)\n",
    "with open('./gnb_export.txt', mode='rb') as file:\n",
    "    fileContent = file.read()\n",
    "gnb = pickle.loads(fileContent)\n",
    "with open('./svm_export.txt', mode='rb') as file:\n",
    "    fileContent = file.read()\n",
    "svm = pickle.loads(fileContent)"
   ]
  },
  {
   "cell_type": "code",
   "execution_count": 5,
   "metadata": {
    "collapsed": true
   },
   "outputs": [],
   "source": [
    "# a idéia disso é dar resize na imagem mas não é necessário\n",
    "def pyramid(image, scale=1.5, minSize=(30, 30)):\n",
    "    # yield the original image\n",
    "    yield image\n",
    "    '''# keep looping over the pyramid\n",
    "    while True:\n",
    "        # compute the new dimensions of the image and resize it\n",
    "        w = int(image.shape[1] / scale)\n",
    "        image = imutils.resize(image, width=w)\n",
    "\n",
    "        # if the resized image does not meet the supplied minimum\n",
    "        # size, then stop constructing the pyramid\n",
    "        if image.shape[0] < minSize[1] or image.shape[1] < minSize[0]:\n",
    "            break\n",
    "\n",
    "        # yield the next image in the pyramid\n",
    "        yield image'''"
   ]
  },
  {
   "cell_type": "code",
   "execution_count": 6,
   "metadata": {
    "collapsed": true
   },
   "outputs": [],
   "source": [
    "def RGBLBP(imagem, X):\n",
    "    altura, largura, _ = imagem.shape\n",
    "    cinza = cv2.cvtColor(imagem, cv2.COLOR_BGR2GRAY)\n",
    "    rgb   = cv2.cvtColor(imagem, cv2.COLOR_BGR2RGB)\n",
    "        \n",
    "    r_histograma = cv2.calcHist([rgb], [0], None, [256], [0, 256])/(altura*largura)\n",
    "    g_histograma = cv2.calcHist([rgb], [1], None, [256], [0, 256])/(altura*largura)\n",
    "    b_histograma = cv2.calcHist([rgb], [2], None, [256], [0, 256])/(altura*largura)\n",
    "    \n",
    "    lbp = feature.local_binary_pattern(cinza, 59, 1, method=\"uniform\")\n",
    "    (lbp_histograma, _) = np.histogram(lbp.ravel(), bins=59, range=(0, 59))\n",
    "    lbp_histograma = lbp_histograma.astype(\"float\")\n",
    "    lbp_histograma /= (lbp_histograma.sum())\n",
    "\n",
    "    X_image = [r_histograma, g_histograma, b_histograma, lbp_histograma]\n",
    "    \n",
    "    X_image_aux = []\n",
    "    for aux in X_image:\n",
    "        X_image_aux = np.append(X_image_aux, np.ravel(aux))\n",
    "    \n",
    "    X_image = [i for i in X_image_aux]\n",
    "    #X_image.append(label(1))\n",
    "    X.append(X_image)"
   ]
  },
  {
   "cell_type": "code",
   "execution_count": 7,
   "metadata": {
    "collapsed": true
   },
   "outputs": [],
   "source": [
    "def sliding_window(image, stepSize, windowSize):\n",
    "    # slide a window across the image\n",
    "    for y in range(0, image.shape[0], stepSize):\n",
    "        for x in range(0, image.shape[1], stepSize):\n",
    "            # yield the current window\n",
    "            yield (x, y, image[y:y + windowSize[1], x:x + windowSize[0]])"
   ]
  },
  {
   "cell_type": "code",
   "execution_count": 8,
   "metadata": {
    "collapsed": true
   },
   "outputs": [],
   "source": [
    "def iteraSobreTodasImagens():\n",
    "    # argument parser\n",
    "    #ap = argparse.ArgumentParser()\n",
    "    #ap.add_argument(\"-i\", \"--image\", required=True, help=\"Path to the image\")\n",
    "    #args = vars(ap.parse_args())\n",
    "\n",
    "    # carrega image e define altura e largura da janela\n",
    "    # image = cv2.imread(args[\"image\"])\n",
    "    \n",
    "    filenames = glob.glob(\"/home/kruger/4o-ano/ia/machine-learning/datasets/placas/*.jpg\")\n",
    "    filenames.sort()\n",
    "    images = [cv2.imread(img) for img in filenames]\n",
    "\n",
    "    for image in images:\n",
    "        # loop da sliding window\n",
    "        for (x, y, window) in sliding_window(image, stepSize=stepSize, windowSize=(winW, winH)):\n",
    "            # if the window does not meet our desired window size, ignore it\n",
    "            if window.shape[0] != winH or window.shape[1] != winW:\n",
    "                continue\n",
    "\n",
    "            cv2.imwrite(\"/home/kruger/4o-ano/ia/machine-learning/datasets/placas/123.jpg\", window)\n",
    "            \n",
    "            # CLASSIFICADOR/EXTRATOR AQUI\n",
    "\n",
    "            # extrair características de window\n",
    "            clone = image.copy()\n",
    "            cv2.rectangle(clone, (x, y), (x + winW, y + winH), (0, 255, 0), 2)\n",
    "            cv2.imshow(\"Window\", clone)\n",
    "            cv2.waitKey(1)\n",
    "            time.sleep(0.025)\n",
    "        cv2.destroyAllWindows()"
   ]
  },
  {
   "cell_type": "code",
   "execution_count": 13,
   "metadata": {},
   "outputs": [],
   "source": [
    "def iteraSobreImagem():\n",
    "    # argument parser \n",
    "    # ap = argparse.ArgumentParser()\n",
    "    # ap.add_argument(\"-i\", \"--image\", required=True, help=\"Caminho para a imagem\")\n",
    "    # args = vars(ap.parse_args())\n",
    "\n",
    "    # carrega imagem e define altura e largura da janela \n",
    "    #image = cv2.imread(args[\"image\"])\n",
    "    image = cv2.imread(\"./audi.jpg\")\n",
    "    final = cv2.imread(\"./audi.jpg\")\n",
    "\n",
    "    for image in pyramid(image):\n",
    "        # loop de sliding window \n",
    "        for (x, y, window) in sliding_window(image, stepSize=stepSize, windowSize=(winW, winH)):\n",
    "            # ignora se a janela nao obedece o tamanho certo\n",
    "            if window.shape[0] != winH or window.shape[1] != winW:\n",
    "                continue\n",
    "            \n",
    "            ## O CLASSIFICADOR/EXTRATOR VAI AQUI\n",
    "\n",
    "            # extrair características de window\n",
    "            \n",
    "            X = []\n",
    "            RGBLBP(window, X)\n",
    "            X = np.array(X)\n",
    "            X = (X - X.mean())/X.std()\n",
    "            if(gnb.predict(X)[0]=='c1'):\n",
    "                if(c45.predict(X)[0]=='c1'):\n",
    "                    if(svm.predict(X)[0]=='c1'):\n",
    "                        cv2.rectangle(final, (x, y), (x + winW, y + winH), (0, 255, 0), 2)\n",
    "                \n",
    "            \n",
    "            # desenha a janela\n",
    "            clone = image.copy()\n",
    "            cv2.rectangle(clone, (x, y), (x + winW, y + winH), (0, 255, 0), 2)\n",
    "            #cv2.imshow(\"Window\", clone)\n",
    "            #cv2.waitKey(1)\n",
    "            #time.sleep(0.025)\n",
    "        cv2.imwrite('final.png',final)\n",
    "        cv2.imshow(\"Window\", final)\n",
    "        cv2.waitKey(0)\n",
    "        cv2.destroyAllWindows()"
   ]
  },
  {
   "cell_type": "code",
   "execution_count": 14,
   "metadata": {
    "collapsed": true
   },
   "outputs": [],
   "source": [
    "iteraSobreImagem()"
   ]
  },
  {
   "cell_type": "code",
   "execution_count": null,
   "metadata": {
    "collapsed": true
   },
   "outputs": [],
   "source": []
  },
  {
   "cell_type": "code",
   "execution_count": null,
   "metadata": {
    "collapsed": true
   },
   "outputs": [],
   "source": []
  }
 ],
 "metadata": {
  "kernelspec": {
   "display_name": "Python 3",
   "language": "python",
   "name": "python3"
  },
  "language_info": {
   "codemirror_mode": {
    "name": "ipython",
    "version": 3
   },
   "file_extension": ".py",
   "mimetype": "text/x-python",
   "name": "python",
   "nbconvert_exporter": "python",
   "pygments_lexer": "ipython3",
   "version": "3.6.3"
  }
 },
 "nbformat": 4,
 "nbformat_minor": 2
}
