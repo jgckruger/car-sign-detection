{
 "cells": [
  {
   "cell_type": "code",
   "execution_count": 1,
   "metadata": {
    "collapsed": true
   },
   "outputs": [],
   "source": [
    "import pandas as pd\n",
    "import numpy as np\n",
    "import pylab as pl\n",
    "\n",
    "from sklearn.model_selection import train_test_split\n",
    "from sklearn.metrics import confusion_matrix\n",
    "\n",
    "from sklearn import neighbors, tree, naive_bayes, svm, neural_network\n",
    "from sklearn.svm import SVC\n",
    "\n",
    "import pickle"
   ]
  },
  {
   "cell_type": "code",
   "execution_count": 2,
   "metadata": {
    "collapsed": true
   },
   "outputs": [],
   "source": [
    "dataset = pd.read_csv(\"mono_feat.csv\")\n",
    "dataset.head()\n",
    "data = dataset.iloc[:, 0:827].values\n",
    "normalized_data=(data-data.mean())/data.std()\n",
    "target = dataset.iloc[:,827].values"
   ]
  },
  {
   "cell_type": "code",
   "execution_count": 3,
   "metadata": {
    "collapsed": true
   },
   "outputs": [],
   "source": [
    "labels = ['c1', 'c2']\n",
    "labels2 = ['c1', 'c2']"
   ]
  },
  {
   "cell_type": "code",
   "execution_count": 4,
   "metadata": {
    "collapsed": true
   },
   "outputs": [],
   "source": [
    "X_train, X_test, y_train, y_test = train_test_split(normalized_data, target, test_size=0.30,stratify=target)"
   ]
  },
  {
   "cell_type": "code",
   "execution_count": 5,
   "metadata": {},
   "outputs": [
    {
     "data": {
      "text/html": [
       "<div>\n",
       "<style scoped>\n",
       "    .dataframe tbody tr th:only-of-type {\n",
       "        vertical-align: middle;\n",
       "    }\n",
       "\n",
       "    .dataframe tbody tr th {\n",
       "        vertical-align: top;\n",
       "    }\n",
       "\n",
       "    .dataframe thead th {\n",
       "        text-align: right;\n",
       "    }\n",
       "</style>\n",
       "<table border=\"1\" class=\"dataframe\">\n",
       "  <thead>\n",
       "    <tr style=\"text-align: right;\">\n",
       "      <th></th>\n",
       "      <th>0</th>\n",
       "      <th>1</th>\n",
       "      <th>2</th>\n",
       "      <th>3</th>\n",
       "      <th>4</th>\n",
       "      <th>5</th>\n",
       "      <th>6</th>\n",
       "      <th>7</th>\n",
       "      <th>8</th>\n",
       "      <th>9</th>\n",
       "      <th>...</th>\n",
       "      <th>817</th>\n",
       "      <th>818</th>\n",
       "      <th>819</th>\n",
       "      <th>820</th>\n",
       "      <th>821</th>\n",
       "      <th>822</th>\n",
       "      <th>823</th>\n",
       "      <th>824</th>\n",
       "      <th>825</th>\n",
       "      <th>826</th>\n",
       "    </tr>\n",
       "  </thead>\n",
       "  <tbody>\n",
       "    <tr>\n",
       "      <th>0</th>\n",
       "      <td>-0.323863</td>\n",
       "      <td>-0.323863</td>\n",
       "      <td>-0.323863</td>\n",
       "      <td>-0.323863</td>\n",
       "      <td>-0.323863</td>\n",
       "      <td>-0.323863</td>\n",
       "      <td>-0.323863</td>\n",
       "      <td>-0.323863</td>\n",
       "      <td>-0.323863</td>\n",
       "      <td>-0.323863</td>\n",
       "      <td>...</td>\n",
       "      <td>-0.323863</td>\n",
       "      <td>-0.323863</td>\n",
       "      <td>-0.323863</td>\n",
       "      <td>-0.052775</td>\n",
       "      <td>-0.323863</td>\n",
       "      <td>-0.323863</td>\n",
       "      <td>-0.323863</td>\n",
       "      <td>-0.323863</td>\n",
       "      <td>-0.323863</td>\n",
       "      <td>4.284634</td>\n",
       "    </tr>\n",
       "    <tr>\n",
       "      <th>1</th>\n",
       "      <td>-0.323863</td>\n",
       "      <td>-0.323863</td>\n",
       "      <td>-0.323863</td>\n",
       "      <td>-0.323863</td>\n",
       "      <td>-0.323863</td>\n",
       "      <td>-0.323863</td>\n",
       "      <td>-0.323863</td>\n",
       "      <td>-0.323863</td>\n",
       "      <td>-0.323863</td>\n",
       "      <td>-0.323863</td>\n",
       "      <td>...</td>\n",
       "      <td>-0.054953</td>\n",
       "      <td>0.213958</td>\n",
       "      <td>0.213958</td>\n",
       "      <td>-0.323863</td>\n",
       "      <td>-0.323863</td>\n",
       "      <td>-0.323863</td>\n",
       "      <td>-0.323863</td>\n",
       "      <td>-0.323863</td>\n",
       "      <td>-0.323863</td>\n",
       "      <td>4.785439</td>\n",
       "    </tr>\n",
       "    <tr>\n",
       "      <th>2</th>\n",
       "      <td>-0.323863</td>\n",
       "      <td>-0.323863</td>\n",
       "      <td>-0.323863</td>\n",
       "      <td>-0.323863</td>\n",
       "      <td>-0.323863</td>\n",
       "      <td>-0.323863</td>\n",
       "      <td>-0.323863</td>\n",
       "      <td>-0.323863</td>\n",
       "      <td>-0.323863</td>\n",
       "      <td>-0.323863</td>\n",
       "      <td>...</td>\n",
       "      <td>0.527307</td>\n",
       "      <td>1.094754</td>\n",
       "      <td>-0.040140</td>\n",
       "      <td>-0.323863</td>\n",
       "      <td>-0.323863</td>\n",
       "      <td>-0.323863</td>\n",
       "      <td>-0.323863</td>\n",
       "      <td>-0.323863</td>\n",
       "      <td>-0.323863</td>\n",
       "      <td>30.034554</td>\n",
       "    </tr>\n",
       "    <tr>\n",
       "      <th>3</th>\n",
       "      <td>-0.323863</td>\n",
       "      <td>-0.323863</td>\n",
       "      <td>-0.323863</td>\n",
       "      <td>-0.323863</td>\n",
       "      <td>-0.323863</td>\n",
       "      <td>-0.323863</td>\n",
       "      <td>-0.323863</td>\n",
       "      <td>-0.323863</td>\n",
       "      <td>-0.323863</td>\n",
       "      <td>-0.323863</td>\n",
       "      <td>...</td>\n",
       "      <td>0.012613</td>\n",
       "      <td>-0.323863</td>\n",
       "      <td>0.685565</td>\n",
       "      <td>0.685565</td>\n",
       "      <td>0.012613</td>\n",
       "      <td>0.349089</td>\n",
       "      <td>0.012613</td>\n",
       "      <td>0.012613</td>\n",
       "      <td>-0.323863</td>\n",
       "      <td>7.078612</td>\n",
       "    </tr>\n",
       "    <tr>\n",
       "      <th>4</th>\n",
       "      <td>-0.323863</td>\n",
       "      <td>-0.323863</td>\n",
       "      <td>-0.323863</td>\n",
       "      <td>-0.323863</td>\n",
       "      <td>-0.323863</td>\n",
       "      <td>-0.323863</td>\n",
       "      <td>-0.323863</td>\n",
       "      <td>-0.323863</td>\n",
       "      <td>-0.323863</td>\n",
       "      <td>-0.323863</td>\n",
       "      <td>...</td>\n",
       "      <td>0.506204</td>\n",
       "      <td>0.229515</td>\n",
       "      <td>0.506204</td>\n",
       "      <td>-0.323863</td>\n",
       "      <td>-0.047174</td>\n",
       "      <td>-0.323863</td>\n",
       "      <td>-0.047174</td>\n",
       "      <td>-0.323863</td>\n",
       "      <td>-0.323863</td>\n",
       "      <td>5.763296</td>\n",
       "    </tr>\n",
       "  </tbody>\n",
       "</table>\n",
       "<p>5 rows × 827 columns</p>\n",
       "</div>"
      ],
      "text/plain": [
       "        0         1         2         3         4         5         6    \\\n",
       "0 -0.323863 -0.323863 -0.323863 -0.323863 -0.323863 -0.323863 -0.323863   \n",
       "1 -0.323863 -0.323863 -0.323863 -0.323863 -0.323863 -0.323863 -0.323863   \n",
       "2 -0.323863 -0.323863 -0.323863 -0.323863 -0.323863 -0.323863 -0.323863   \n",
       "3 -0.323863 -0.323863 -0.323863 -0.323863 -0.323863 -0.323863 -0.323863   \n",
       "4 -0.323863 -0.323863 -0.323863 -0.323863 -0.323863 -0.323863 -0.323863   \n",
       "\n",
       "        7         8         9      ...           817       818       819  \\\n",
       "0 -0.323863 -0.323863 -0.323863    ...     -0.323863 -0.323863 -0.323863   \n",
       "1 -0.323863 -0.323863 -0.323863    ...     -0.054953  0.213958  0.213958   \n",
       "2 -0.323863 -0.323863 -0.323863    ...      0.527307  1.094754 -0.040140   \n",
       "3 -0.323863 -0.323863 -0.323863    ...      0.012613 -0.323863  0.685565   \n",
       "4 -0.323863 -0.323863 -0.323863    ...      0.506204  0.229515  0.506204   \n",
       "\n",
       "        820       821       822       823       824       825        826  \n",
       "0 -0.052775 -0.323863 -0.323863 -0.323863 -0.323863 -0.323863   4.284634  \n",
       "1 -0.323863 -0.323863 -0.323863 -0.323863 -0.323863 -0.323863   4.785439  \n",
       "2 -0.323863 -0.323863 -0.323863 -0.323863 -0.323863 -0.323863  30.034554  \n",
       "3  0.685565  0.012613  0.349089  0.012613  0.012613 -0.323863   7.078612  \n",
       "4 -0.323863 -0.047174 -0.323863 -0.047174 -0.323863 -0.323863   5.763296  \n",
       "\n",
       "[5 rows x 827 columns]"
      ]
     },
     "execution_count": 5,
     "metadata": {},
     "output_type": "execute_result"
    }
   ],
   "source": [
    "pd.DataFrame(X_train).head()"
   ]
  },
  {
   "cell_type": "code",
   "execution_count": 6,
   "metadata": {},
   "outputs": [
    {
     "data": {
      "text/plain": [
       "DecisionTreeClassifier(class_weight=None, criterion='gini', max_depth=None,\n",
       "            max_features=None, max_leaf_nodes=None,\n",
       "            min_impurity_decrease=0.0, min_impurity_split=None,\n",
       "            min_samples_leaf=1, min_samples_split=2,\n",
       "            min_weight_fraction_leaf=0.0, presort=False, random_state=None,\n",
       "            splitter='best')"
      ]
     },
     "execution_count": 6,
     "metadata": {},
     "output_type": "execute_result"
    }
   ],
   "source": [
    "c45 = tree.DecisionTreeClassifier()\n",
    "c45.fit(X_train, y_train)"
   ]
  },
  {
   "cell_type": "code",
   "execution_count": 7,
   "metadata": {},
   "outputs": [
    {
     "data": {
      "text/plain": [
       "183240"
      ]
     },
     "execution_count": 7,
     "metadata": {},
     "output_type": "execute_result"
    }
   ],
   "source": [
    "s = pickle.dumps(c45)\n",
    "svm_file  = open(\"c45_export.txt\", \"wb\")\n",
    "svm_file.write(s)"
   ]
  },
  {
   "cell_type": "code",
   "execution_count": 8,
   "metadata": {},
   "outputs": [
    {
     "data": {
      "text/plain": [
       "GaussianNB(priors=None)"
      ]
     },
     "execution_count": 8,
     "metadata": {},
     "output_type": "execute_result"
    }
   ],
   "source": [
    "gnb = naive_bayes.GaussianNB()\n",
    "gnb.fit(X_train, y_train)"
   ]
  },
  {
   "cell_type": "code",
   "execution_count": 9,
   "metadata": {},
   "outputs": [
    {
     "data": {
      "text/plain": [
       "27033"
      ]
     },
     "execution_count": 9,
     "metadata": {},
     "output_type": "execute_result"
    }
   ],
   "source": [
    "s = pickle.dumps(gnb)\n",
    "gnb_file  = open(\"gnb_export.txt\", \"wb\")\n",
    "gnb_file.write(s)"
   ]
  },
  {
   "cell_type": "code",
   "execution_count": 10,
   "metadata": {},
   "outputs": [
    {
     "data": {
      "text/plain": [
       "SVC(C=10000, cache_size=200, class_weight=None, coef0=0.0,\n",
       "  decision_function_shape='ovr', degree=3, gamma='auto', kernel='poly',\n",
       "  max_iter=-1, probability=False, random_state=None, shrinking=True,\n",
       "  tol=0.001, verbose=False)"
      ]
     },
     "execution_count": 10,
     "metadata": {},
     "output_type": "execute_result"
    }
   ],
   "source": [
    "svm = svm.SVC(kernel = 'poly', C = 10000,gamma = 'auto')\n",
    "svm.fit(X_train, y_train) "
   ]
  },
  {
   "cell_type": "code",
   "execution_count": 11,
   "metadata": {},
   "outputs": [
    {
     "data": {
      "text/plain": [
       "48603441"
      ]
     },
     "execution_count": 11,
     "metadata": {},
     "output_type": "execute_result"
    }
   ],
   "source": [
    "s = pickle.dumps(svm)\n",
    "svm_file  = open(\"svm_export.txt\", \"wb\")\n",
    "svm_file.write(s)"
   ]
  }
 ],
 "metadata": {
  "kernelspec": {
   "display_name": "Python 3",
   "language": "python",
   "name": "python3"
  },
  "language_info": {
   "codemirror_mode": {
    "name": "ipython",
    "version": 3
   },
   "file_extension": ".py",
   "mimetype": "text/x-python",
   "name": "python",
   "nbconvert_exporter": "python",
   "pygments_lexer": "ipython3",
   "version": "3.6.3"
  }
 },
 "nbformat": 4,
 "nbformat_minor": 2
}
