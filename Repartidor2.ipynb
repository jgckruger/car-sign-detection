{
 "cells": [
  {
   "cell_type": "code",
   "execution_count": 1,
   "metadata": {
    "collapsed": true
   },
   "outputs": [],
   "source": [
    "import cv2\n",
    "import numpy as np\n",
    "import matplotlib.pyplot as plt\n",
    "import pandas as pd\n",
    "import os"
   ]
  },
  {
   "cell_type": "code",
   "execution_count": 2,
   "metadata": {},
   "outputs": [
    {
     "name": "stdout",
     "output_type": "stream",
     "text": [
      "['test_001.png', 'test_002.png', 'test_003.png', 'test_004.png', 'test_005.png', 'test_006.png', 'test_007.png', 'test_008.png', 'test_009.png', 'test_010.png', 'test_011.png', 'test_012.png', 'test_013.png', 'test_014.png', 'test_015.png', 'test_016.png', 'test_017.png', 'test_018.png', 'test_019.png', 'test_020.png', 'test_021.png', 'test_022.png', 'test_023.png', 'test_024.png', 'test_025.png', 'test_026.png', 'test_027.png', 'test_028.png', 'test_029.png', 'test_030.png', 'test_031.png', 'test_032.png', 'test_033.png', 'test_034.png', 'test_035.png', 'test_036.png', 'test_037.png', 'test_038.png', 'test_039.png', 'test_040.png', 'test_041.png', 'test_042.png', 'test_043.png', 'test_044.png', 'test_045.png', 'test_046.png', 'test_047.png', 'test_048.png', 'test_049.png', 'test_050.png', 'test_051.png', 'test_052.png', 'test_053.png', 'test_054.png', 'test_055.png', 'test_056.png', 'test_057.png', 'test_058.png', 'test_059.png', 'test_060.png', 'test_061.png', 'test_062.png', 'test_063.png', 'test_064.png', 'test_065.png', 'test_066.png', 'test_067.png', 'test_068.png', 'test_069.png', 'test_070.png', 'test_071.png', 'test_072.png', 'test_073.png', 'test_074.png', 'test_075.png', 'test_076.png', 'test_077.png', 'test_078.png', 'test_079.png', 'test_080.png', 'test_081.png', 'test_082.png', 'test_083.png', 'test_084.png', 'test_085.png', 'test_086.png', 'test_087.png', 'test_088.png', 'test_089.png', 'test_090.png', 'test_091.png', 'test_092.png', 'test_093.png', 'test_094.png', 'test_095.png', 'test_096.png', 'test_097.png']\n"
     ]
    }
   ],
   "source": [
    "lista_imagens = sorted(os.listdir('./imagens_alpha/'))\n",
    "num_imag_alpha = 0\n",
    "num_imag_s_alpha = 0\n",
    "print (lista_imagens)"
   ]
  },
  {
   "cell_type": "code",
   "execution_count": 3,
   "metadata": {
    "collapsed": true
   },
   "outputs": [],
   "source": [
    "for imagem_entry in lista_imagens:\n",
    "    img = cv2.imread(\"./imagens_alpha/\" + imagem_entry, cv2.IMREAD_UNCHANGED)\n",
    "    altura,largura,canais = img.shape\n",
    "    lado_da_regiao = 16\n",
    "    boxes_altura = altura//lado_da_regiao\n",
    "    boxes_largura = largura//lado_da_regiao\n",
    "    #print(boxes_altura)\n",
    "    #print(boxes_largura)\n",
    "    for i in range(1,boxes_altura):\n",
    "        for j in range(1,boxes_largura):\n",
    "            middle_altura = i*lado_da_regiao\n",
    "            middle_largura = j*lado_da_regiao\n",
    "            lado_div_2 = lado_da_regiao//2\n",
    "            roi = img[middle_altura-lado_div_2:middle_altura+lado_div_2,middle_largura-lado_div_2:middle_largura+lado_div_2]\n",
    "            #cv2.imshow('imagem', roi)\n",
    "            #cv2.waitKey(0)\n",
    "            #cv2.destroyAllWindows()\n",
    "            tem_alpha = False\n",
    "            for altura in range(lado_da_regiao):\n",
    "                for largura in range(lado_da_regiao):\n",
    "                    alpha = roi.item(altura,largura,3)\n",
    "                    r = roi.item(altura,largura,0)\n",
    "                    if(alpha != 255):\n",
    "                        tem_alpha = True\n",
    "            if (tem_alpha):\n",
    "                num_imag_alpha += 1\n",
    "                cv2.imwrite('recorte_placas/'+str(num_imag_alpha)+'.jpg',roi)\n",
    "            else:\n",
    "                num_imag_s_alpha += 1\n",
    "                cv2.imwrite('recorte_sem_placa/'+str(num_imag_s_alpha)+'.jpg',roi)"
   ]
  },
  {
   "cell_type": "code",
   "execution_count": 3,
   "metadata": {
    "collapsed": true
   },
   "outputs": [],
   "source": [
    "import re\n",
    "import math\n",
    "\n",
    "from skimage import feature\n",
    "from imutils import paths\n",
    "def label(n):\n",
    "    return {\n",
    "        0: 'c1',\n",
    "        1: 'c2',\n",
    "    }[n]"
   ]
  },
  {
   "cell_type": "code",
   "execution_count": 4,
   "metadata": {
    "collapsed": true
   },
   "outputs": [],
   "source": [
    "lista_imagens = sorted(os.listdir('./recorte_placas/'))\n",
    "X = []\n",
    "for imagem_entry in lista_imagens:\n",
    "    imagem = cv2.imread('./recorte_placas/'+imagem_entry)\n",
    "    altura, largura, _ = imagem.shape\n",
    "    cinza = cv2.cvtColor(imagem, cv2.COLOR_BGR2GRAY)\n",
    "    rgb   = cv2.cvtColor(imagem, cv2.COLOR_BGR2RGB)\n",
    "        \n",
    "    r_histograma = cv2.calcHist([rgb], [0], None, [256], [0, 256])/(altura*largura)\n",
    "    g_histograma = cv2.calcHist([rgb], [1], None, [256], [0, 256])/(altura*largura)\n",
    "    b_histograma = cv2.calcHist([rgb], [2], None, [256], [0, 256])/(altura*largura)\n",
    "    \n",
    "    lbp = feature.local_binary_pattern(cinza, 59, 1, method=\"uniform\")\n",
    "    (lbp_histograma, _) = np.histogram(lbp.ravel(), bins=59, range=(0, 59))\n",
    "    lbp_histograma = lbp_histograma.astype(\"float\")\n",
    "    lbp_histograma /= (lbp_histograma.sum())\n",
    "\n",
    "    X_image = [r_histograma, g_histograma, b_histograma, lbp_histograma]\n",
    "    \n",
    "    X_image_aux = []\n",
    "    for aux in X_image:\n",
    "        X_image_aux = np.append(X_image_aux, np.ravel(aux))\n",
    "    \n",
    "    X_image = [i for i in X_image_aux]\n",
    "    X_image.append(label(0))\n",
    "    X.append(X_image)"
   ]
  },
  {
   "cell_type": "code",
   "execution_count": 5,
   "metadata": {
    "collapsed": true
   },
   "outputs": [],
   "source": [
    "lista_imagens = sorted(os.listdir('./recorte_sem_placa/'))\n",
    "Y = []\n",
    "for imagem_entry in lista_imagens:\n",
    "    imagem = cv2.imread('./recorte_sem_placa/'+imagem_entry)\n",
    "    altura, largura, _ = imagem.shape\n",
    "    cinza = cv2.cvtColor(imagem, cv2.COLOR_BGR2GRAY)\n",
    "    rgb   = cv2.cvtColor(imagem, cv2.COLOR_BGR2RGB)\n",
    "        \n",
    "    r_histograma = cv2.calcHist([rgb], [0], None, [256], [0, 256])/(altura*largura)\n",
    "    g_histograma = cv2.calcHist([rgb], [1], None, [256], [0, 256])/(altura*largura)\n",
    "    b_histograma = cv2.calcHist([rgb], [2], None, [256], [0, 256])/(altura*largura)\n",
    "    \n",
    "    lbp = feature.local_binary_pattern(cinza, 59, 1, method=\"uniform\")\n",
    "    (lbp_histograma, _) = np.histogram(lbp.ravel(), bins=59, range=(0, 59))\n",
    "    lbp_histograma = lbp_histograma.astype(\"float\")\n",
    "    lbp_histograma /= (lbp_histograma.sum())\n",
    "\n",
    "    X_image = [r_histograma, g_histograma, b_histograma, lbp_histograma]\n",
    "    \n",
    "    X_image_aux = []\n",
    "    for aux in X_image:\n",
    "        X_image_aux = np.append(X_image_aux, np.ravel(aux))\n",
    "    \n",
    "    X_image = [i for i in X_image_aux]\n",
    "    X_image.append(label(1))\n",
    "    Y.append(X_image)\n",
    "df = pd.DataFrame(X)\n",
    "df.to_csv('feat.csv', header=False, index=False)"
   ]
  }
 ],
 "metadata": {
  "kernelspec": {
   "display_name": "Python 3",
   "language": "python",
   "name": "python3"
  },
  "language_info": {
   "codemirror_mode": {
    "name": "ipython",
    "version": 3
   },
   "file_extension": ".py",
   "mimetype": "text/x-python",
   "name": "python",
   "nbconvert_exporter": "python",
   "pygments_lexer": "ipython3",
   "version": "3.6.3"
  }
 },
 "nbformat": 4,
 "nbformat_minor": 2
}
